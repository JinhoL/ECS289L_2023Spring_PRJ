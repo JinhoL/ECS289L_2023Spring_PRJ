{
 "cells": [
  {
   "cell_type": "markdown",
   "id": "fe40a6e0",
   "metadata": {},
   "source": [
    "## Creating a Sankey diagram to show the amount of trade between major coffee bean exporters and importers (US, EU)"
   ]
  },
  {
   "cell_type": "markdown",
   "id": "26ca9a33",
   "metadata": {},
   "source": [
    "Acording to data from the International Coffee Organization, in the 2021 coffee year was approximately 9.109 billion kg. The percentages of world coffee bean imports are as follows:[1]\n",
    "\n",
    "* European Union: 33.8%\n",
    "* United States: 27.9%\n",
    "\n",
    "In this Jupyter notebook, we wanted to show how much coffee beans the United States and the EU, which are major coffee bean importers, are getting from the major coffee bean producing countries using a Sankey diagram. \n",
    "\n",
    "Data source - FAO(Food and Arriculture Organization of the United Nations\n",
    "https://www.fao.org/faostat/en/#data)\n",
    "\n",
    "[1] International Coffee Organization. (n.d.). Monthly Coffee Trade Statistics - Imports. Retrieved from https://www.ico.org/prices/m4-imports.pdf"
   ]
  },
  {
   "cell_type": "code",
   "execution_count": 309,
   "id": "295d24e6",
   "metadata": {},
   "outputs": [],
   "source": [
    "import sys\n",
    "import json\n",
    "import csv\n",
    "import yaml\n",
    "\n",
    "import pandas as pd\n",
    "import numpy as np\n",
    "\n",
    "import matplotlib as mpl\n",
    "from cycler import cycler\n",
    "\n",
    "import matplotlib.pyplot as plt\n",
    "import seaborn as sns\n",
    "sns.set(style=\"darkgrid\")\n",
    "\n",
    "from owlready2 import *"
   ]
  },
  {
   "cell_type": "code",
   "execution_count": 310,
   "id": "bd618b56",
   "metadata": {},
   "outputs": [],
   "source": [
    "import psycopg2\n",
    "from sqlalchemy import create_engine, text as sql_text"
   ]
  },
  {
   "cell_type": "markdown",
   "id": "eeb15e38",
   "metadata": {},
   "source": [
    "### Getting data from FAO and preprocessing"
   ]
  },
  {
   "cell_type": "code",
   "execution_count": 311,
   "id": "ce0fa3c4",
   "metadata": {},
   "outputs": [],
   "source": [
    "# Data on coffee bean exports to the EU from the top 20 coffee bean producing countries.\n",
    "df_EU = pd.read_csv('11to21_top20_EU.csv') "
   ]
  },
  {
   "cell_type": "code",
   "execution_count": 312,
   "id": "7f339a97",
   "metadata": {},
   "outputs": [],
   "source": [
    "# Data on coffee bean exports to the USA from the top 20 coffee bean producing countries.\n",
    "df_US = pd.read_csv('11to21_top20_US.csv')"
   ]
  },
  {
   "cell_type": "code",
   "execution_count": 313,
   "id": "24743994",
   "metadata": {},
   "outputs": [],
   "source": [
    "# Use the most recent, 2021 data\n",
    "filtered_df_US = df_US[(df_US['Item'] == 'Coffee, green') & (df_US['Item Code (CPC)'] == 1610.0) & (df_US['Year'] == 2021) ]"
   ]
  },
  {
   "cell_type": "code",
   "execution_count": 314,
   "id": "8ed22a81",
   "metadata": {},
   "outputs": [],
   "source": [
    "filtered_df_US = filtered_df_US.loc[:, ['Reporter Country Code (M49)', 'Reporter Countries', \n",
    "                                  'Partner Country Code (M49)', 'Partner Countries', \n",
    "                                  'Item Code (CPC)', 'Item', 'Year Code', 'Year', \n",
    "                                  'Unit', 'Value']]\n",
    "filtered_df_US['Countries Group'] = ['USA'] * len(filtered_df_US)\n",
    "selected_df_US = filtered_df_US.loc[:,['Reporter Country Code (M49)', 'Reporter Countries', 'Value', 'Countries Group']]"
   ]
  },
  {
   "cell_type": "code",
   "execution_count": 315,
   "id": "da76fa61",
   "metadata": {},
   "outputs": [
    {
     "name": "stdout",
     "output_type": "stream",
     "text": [
      "     Reporter Country Code (M49)           Reporter Countries      Value  \\\n",
      "38                            76                       Brazil  445607.72   \n",
      "72                           156              China, mainland    3851.99   \n",
      "116                          170                     Colombia  284124.44   \n",
      "160                          188                   Costa Rica   28993.35   \n",
      "205                          218                      Ecuador     215.35   \n",
      "249                          222                  El Salvador   15601.23   \n",
      "280                          231                     Ethiopia   30934.90   \n",
      "324                          320                    Guatemala   90250.62   \n",
      "360                          340                     Honduras  110352.68   \n",
      "414                          356                        India    2906.95   \n",
      "449                          360                    Indonesia   57694.03   \n",
      "479                          404                        Kenya    5464.37   \n",
      "518                          484                       Mexico   62090.33   \n",
      "557                          558                    Nicaragua   67823.39   \n",
      "572                          598             Papua New Guinea    8957.75   \n",
      "615                          604                         Peru   42863.92   \n",
      "638                          800                       Uganda   22329.40   \n",
      "664                          834  United Republic of Tanzania    2410.09   \n",
      "700                          704                     Viet Nam  143255.49   \n",
      "\n",
      "    Countries Group  \n",
      "38              USA  \n",
      "72              USA  \n",
      "116             USA  \n",
      "160             USA  \n",
      "205             USA  \n",
      "249             USA  \n",
      "280             USA  \n",
      "324             USA  \n",
      "360             USA  \n",
      "414             USA  \n",
      "449             USA  \n",
      "479             USA  \n",
      "518             USA  \n",
      "557             USA  \n",
      "572             USA  \n",
      "615             USA  \n",
      "638             USA  \n",
      "664             USA  \n",
      "700             USA  \n"
     ]
    }
   ],
   "source": [
    "print(selected_df_US)"
   ]
  },
  {
   "cell_type": "code",
   "execution_count": 316,
   "id": "ccab2704",
   "metadata": {},
   "outputs": [],
   "source": [
    "filtered_df_US.to_csv('CoffeeBean_2021_to_US.csv', index=False)\n",
    "selected_df_US.to_csv('CoffeeBean_2021_to_US_4_Shanky.csv', index=False)"
   ]
  },
  {
   "cell_type": "code",
   "execution_count": 317,
   "id": "c3d18fde",
   "metadata": {},
   "outputs": [],
   "source": [
    "filtered_df_EU = df_EU[(df_EU['Item'] == 'Coffee, green') & (df_EU['Item Code (CPC)'] == 1610.0) & (df_EU['Year'] == 2021) ]"
   ]
  },
  {
   "cell_type": "code",
   "execution_count": 318,
   "id": "4bc15e77",
   "metadata": {},
   "outputs": [],
   "source": [
    "grouped_df_EU = filtered_df_EU.groupby(['Reporter Country Code (M49)', 'Reporter Countries', 'Partner Country Code (M49)', 'Partner Countries'])['Value'].sum().reset_index()\n",
    "grouped_df_EU['Countries Group'] = ['EU'] * len(grouped_df_EU)"
   ]
  },
  {
   "cell_type": "code",
   "execution_count": 319,
   "id": "f688be0d",
   "metadata": {},
   "outputs": [],
   "source": [
    "selected_df_EU = grouped_df_EU.groupby(['Reporter Country Code (M49)', 'Reporter Countries', 'Countries Group'])['Value'].sum().reset_index()"
   ]
  },
  {
   "cell_type": "code",
   "execution_count": 320,
   "id": "2d72554c",
   "metadata": {},
   "outputs": [
    {
     "name": "stdout",
     "output_type": "stream",
     "text": [
      "    Reporter Country Code (M49)           Reporter Countries Countries Group  \\\n",
      "0                            76                       Brazil              EU   \n",
      "1                           156              China, mainland              EU   \n",
      "2                           170                     Colombia              EU   \n",
      "3                           188                   Costa Rica              EU   \n",
      "4                           218                      Ecuador              EU   \n",
      "5                           222                  El Salvador              EU   \n",
      "6                           231                     Ethiopia              EU   \n",
      "7                           320                    Guatemala              EU   \n",
      "8                           340                     Honduras              EU   \n",
      "9                           356                        India              EU   \n",
      "10                          360                    Indonesia              EU   \n",
      "11                          404                        Kenya              EU   \n",
      "12                          484                       Mexico              EU   \n",
      "13                          558                    Nicaragua              EU   \n",
      "14                          598             Papua New Guinea              EU   \n",
      "15                          604                         Peru              EU   \n",
      "16                          704                     Viet Nam              EU   \n",
      "17                          800                       Uganda              EU   \n",
      "18                          834  United Republic of Tanzania              EU   \n",
      "\n",
      "         Value  \n",
      "0   1049988.02  \n",
      "1     13537.39  \n",
      "2    176480.77  \n",
      "3     28297.87  \n",
      "4       433.56  \n",
      "5      6818.77  \n",
      "6    118729.75  \n",
      "7     45684.76  \n",
      "8    193056.53  \n",
      "9    156386.90  \n",
      "10    97621.73  \n",
      "11    17767.31  \n",
      "12    23943.50  \n",
      "13    53344.60  \n",
      "14    19911.64  \n",
      "15    91928.09  \n",
      "16   548093.36  \n",
      "17   212314.23  \n",
      "18    33227.79  \n"
     ]
    }
   ],
   "source": [
    "print(selected_df_EU)"
   ]
  },
  {
   "cell_type": "code",
   "execution_count": 321,
   "id": "fcda2914",
   "metadata": {},
   "outputs": [],
   "source": [
    "grouped_df_EU.to_csv('CoffeeBean_2021_to_EU_noGroup.csv', index=False)\n",
    "selected_df_EU.to_csv('CoffeeBean_2021_to_EU_4_Shanky.csv', index=False)"
   ]
  },
  {
   "cell_type": "code",
   "execution_count": 322,
   "id": "5c466b5f",
   "metadata": {},
   "outputs": [],
   "source": [
    "# EU Merge EU and USA data to create a Sankey diagram\n",
    "union_df = pd.concat([selected_df_US, selected_df_EU])\n",
    "\n",
    "# Concatenated data frame(USA + EU)\n",
    "sorted_union_df = union_df.sort_values(by=['Reporter Country Code (M49)', 'Countries Group'], ascending=True)"
   ]
  },
  {
   "cell_type": "code",
   "execution_count": 323,
   "id": "946b4a9c",
   "metadata": {},
   "outputs": [
    {
     "name": "stdout",
     "output_type": "stream",
     "text": [
      "     Reporter Country Code (M49)           Reporter Countries       Value  \\\n",
      "0                             76                       Brazil  1049988.02   \n",
      "38                            76                       Brazil   445607.72   \n",
      "1                            156              China, mainland    13537.39   \n",
      "72                           156              China, mainland     3851.99   \n",
      "2                            170                     Colombia   176480.77   \n",
      "116                          170                     Colombia   284124.44   \n",
      "3                            188                   Costa Rica    28297.87   \n",
      "160                          188                   Costa Rica    28993.35   \n",
      "4                            218                      Ecuador      433.56   \n",
      "205                          218                      Ecuador      215.35   \n",
      "5                            222                  El Salvador     6818.77   \n",
      "249                          222                  El Salvador    15601.23   \n",
      "6                            231                     Ethiopia   118729.75   \n",
      "280                          231                     Ethiopia    30934.90   \n",
      "7                            320                    Guatemala    45684.76   \n",
      "324                          320                    Guatemala    90250.62   \n",
      "8                            340                     Honduras   193056.53   \n",
      "360                          340                     Honduras   110352.68   \n",
      "9                            356                        India   156386.90   \n",
      "414                          356                        India     2906.95   \n",
      "10                           360                    Indonesia    97621.73   \n",
      "449                          360                    Indonesia    57694.03   \n",
      "11                           404                        Kenya    17767.31   \n",
      "479                          404                        Kenya     5464.37   \n",
      "12                           484                       Mexico    23943.50   \n",
      "518                          484                       Mexico    62090.33   \n",
      "13                           558                    Nicaragua    53344.60   \n",
      "557                          558                    Nicaragua    67823.39   \n",
      "14                           598             Papua New Guinea    19911.64   \n",
      "572                          598             Papua New Guinea     8957.75   \n",
      "15                           604                         Peru    91928.09   \n",
      "615                          604                         Peru    42863.92   \n",
      "16                           704                     Viet Nam   548093.36   \n",
      "700                          704                     Viet Nam   143255.49   \n",
      "17                           800                       Uganda   212314.23   \n",
      "638                          800                       Uganda    22329.40   \n",
      "18                           834  United Republic of Tanzania    33227.79   \n",
      "664                          834  United Republic of Tanzania     2410.09   \n",
      "\n",
      "    Countries Group  \n",
      "0                EU  \n",
      "38              USA  \n",
      "1                EU  \n",
      "72              USA  \n",
      "2                EU  \n",
      "116             USA  \n",
      "3                EU  \n",
      "160             USA  \n",
      "4                EU  \n",
      "205             USA  \n",
      "5                EU  \n",
      "249             USA  \n",
      "6                EU  \n",
      "280             USA  \n",
      "7                EU  \n",
      "324             USA  \n",
      "8                EU  \n",
      "360             USA  \n",
      "9                EU  \n",
      "414             USA  \n",
      "10               EU  \n",
      "449             USA  \n",
      "11               EU  \n",
      "479             USA  \n",
      "12               EU  \n",
      "518             USA  \n",
      "13               EU  \n",
      "557             USA  \n",
      "14               EU  \n",
      "572             USA  \n",
      "15               EU  \n",
      "615             USA  \n",
      "16               EU  \n",
      "700             USA  \n",
      "17               EU  \n",
      "638             USA  \n",
      "18               EU  \n",
      "664             USA  \n"
     ]
    }
   ],
   "source": [
    "print(sorted_union_df)"
   ]
  },
  {
   "cell_type": "code",
   "execution_count": 324,
   "id": "0a5d67e5",
   "metadata": {},
   "outputs": [],
   "source": [
    "sorted_union_df.to_csv('CoffeeBean_2021_UNION_4_Shanky.csv', index=False)"
   ]
  },
  {
   "cell_type": "markdown",
   "id": "4d1617e7",
   "metadata": {},
   "source": [
    "### Draw simple Sankey diagram using pysankey library\n",
    "\n",
    "* pySankey library (https://pypi.org/project/pySankey/)\n",
    "* Refer to the following link (https://github.com/anazalea/pySankey)"
   ]
  },
  {
   "cell_type": "code",
   "execution_count": 325,
   "id": "8dee3e86",
   "metadata": {},
   "outputs": [],
   "source": [
    "from pysankey import sankey"
   ]
  },
  {
   "cell_type": "code",
   "execution_count": 326,
   "id": "120407b3",
   "metadata": {},
   "outputs": [],
   "source": [
    "#total_value_sum = sorted_union_df['Value'].sum()\n",
    "#If the data on the right (target) is too big, the Sankey diagram is not plotted properly\n",
    "sorted_union_df['Value'] = sorted_union_df['Value']/50000"
   ]
  },
  {
   "cell_type": "code",
   "execution_count": 327,
   "id": "98926500",
   "metadata": {},
   "outputs": [],
   "source": [
    "sankey(\n",
    "    left=sorted_union_df['Reporter Countries'], \n",
    "    right=sorted_union_df['Countries Group'], \n",
    "    rightWeight=sorted_union_df['Value'], \n",
    "    aspect=15, \n",
    "    fontsize=6, \n",
    "    figureName=\"coffee_2021\"\n",
    ")"
   ]
  },
  {
   "cell_type": "code",
   "execution_count": 328,
   "id": "e40a01b8",
   "metadata": {},
   "outputs": [
    {
     "data": {
      "image/png": "[encoded data removed]",
      "text/plain": [
       "<IPython.core.display.Image object>"
      ]
     },
     "execution_count": 328,
     "metadata": {},
     "output_type": "execute_result"
    }
   ],
   "source": [
    "# Load saved Sankey diagram image file\n",
    "from IPython.display import Image\n",
    "\n",
    "Image(filename='coffee_2021.png')"
   ]
  },
  {
   "cell_type": "markdown",
   "id": "a7764739",
   "metadata": {},
   "source": [
    "### Draw multilevel Sankeys diagram using plotly library\n",
    "\n",
    "Since there are many countries in the EU, a Sankey diagram of the imports of coffee beans by countries in the EU\n",
    "* plotly libary (https://plotly.com/python/)\n",
    "* refer to following link\n",
    "    - Sankey Diagram in Python (https://plotly.com/python/sankey-diagram/)\n",
    "    - How to Create a Sankey Diagram in Plotly Python? (https://lifewithdata.com/2022/08/29/how-to-create-a-sankey-diagram-in-plotly-python/)"
   ]
  },
  {
   "cell_type": "code",
   "execution_count": 329,
   "id": "1615272f",
   "metadata": {},
   "outputs": [
    {
     "name": "stdout",
     "output_type": "stream",
     "text": [
      "     Reporter Country Code (M49)           Reporter Countries  \\\n",
      "0                             76                       Brazil   \n",
      "1                             76                       Brazil   \n",
      "2                             76                       Brazil   \n",
      "3                             76                       Brazil   \n",
      "4                             76                       Brazil   \n",
      "..                           ...                          ...   \n",
      "336                          834  United Republic of Tanzania   \n",
      "337                          834  United Republic of Tanzania   \n",
      "338                          834  United Republic of Tanzania   \n",
      "339                          834  United Republic of Tanzania   \n",
      "340                          834  United Republic of Tanzania   \n",
      "\n",
      "     Partner Country Code (M49) Partner Countries      Value Countries Group  \n",
      "0                            40           Austria      18.83              EU  \n",
      "1                            56           Belgium  175590.57              EU  \n",
      "2                           100          Bulgaria     416.74              EU  \n",
      "3                           191           Croatia   11989.05              EU  \n",
      "4                           196            Cyprus     932.44              EU  \n",
      "..                          ...               ...        ...             ...  \n",
      "336                         616            Poland     492.00              EU  \n",
      "337                         620          Portugal    1184.94              EU  \n",
      "338                         642           Romania     131.40              EU  \n",
      "339                         724             Spain    1269.90              EU  \n",
      "340                         752            Sweden     452.28              EU  \n",
      "\n",
      "[341 rows x 6 columns]\n"
     ]
    }
   ],
   "source": [
    "print(grouped_df_EU)"
   ]
  },
  {
   "cell_type": "code",
   "execution_count": 330,
   "id": "7a55169e",
   "metadata": {},
   "outputs": [],
   "source": [
    "# Data processing for EU\n",
    "grouped_df_EU_partner = grouped_df_EU.groupby(['Partner Countries', 'Countries Group'])['Value'].sum().reset_index()"
   ]
  },
  {
   "cell_type": "code",
   "execution_count": 331,
   "id": "cbb8d2b9",
   "metadata": {},
   "outputs": [
    {
     "name": "stdout",
     "output_type": "stream",
     "text": [
      "   Partner Countries Countries Group       Value\n",
      "0            Austria              EU     2453.29\n",
      "1            Belgium              EU   507123.94\n",
      "2           Bulgaria              EU    12872.40\n",
      "3            Croatia              EU    15389.78\n",
      "4             Cyprus              EU      952.81\n",
      "5            Czechia              EU      754.61\n",
      "6            Denmark              EU     9355.81\n",
      "7            Estonia              EU      822.02\n",
      "8            Finland              EU    49852.55\n",
      "9             France              EU   130290.73\n",
      "10           Germany              EU  1020574.36\n",
      "11            Greece              EU    51005.11\n",
      "12           Hungary              EU      119.71\n",
      "13           Ireland              EU     4029.31\n",
      "14             Italy              EU   585005.96\n",
      "15            Latvia              EU     4440.05\n",
      "16         Lithuania              EU     2035.00\n",
      "17        Luxembourg              EU       17.71\n",
      "18             Malta              EU       53.94\n",
      "19       Netherlands              EU    64259.27\n",
      "20            Poland              EU    33742.15\n",
      "21          Portugal              EU    28264.47\n",
      "22           Romania              EU    10176.89\n",
      "23          Slovakia              EU     3845.23\n",
      "24          Slovenia              EU    32647.93\n",
      "25             Spain              EU   243108.60\n",
      "26            Sweden              EU    74372.94\n"
     ]
    }
   ],
   "source": [
    "print(grouped_df_EU_partner)"
   ]
  },
  {
   "cell_type": "code",
   "execution_count": 332,
   "id": "876f4edd",
   "metadata": {},
   "outputs": [],
   "source": [
    "selected_df_EU = selected_df_EU.loc[:, ['Reporter Countries', 'Countries Group', 'Value']]\n",
    "selected_df_EU.columns = ['source', 'target', 'value']"
   ]
  },
  {
   "cell_type": "code",
   "execution_count": 333,
   "id": "210b4e6b",
   "metadata": {},
   "outputs": [],
   "source": [
    "grouped_df_EU_partner.columns = ['target', 'source', 'value']"
   ]
  },
  {
   "cell_type": "code",
   "execution_count": 334,
   "id": "13010808",
   "metadata": {},
   "outputs": [
    {
     "name": "stdout",
     "output_type": "stream",
     "text": [
      "                         source target       value\n",
      "0                        Brazil     EU  1049988.02\n",
      "1               China, mainland     EU    13537.39\n",
      "2                      Colombia     EU   176480.77\n",
      "3                    Costa Rica     EU    28297.87\n",
      "4                       Ecuador     EU      433.56\n",
      "5                   El Salvador     EU     6818.77\n",
      "6                      Ethiopia     EU   118729.75\n",
      "7                     Guatemala     EU    45684.76\n",
      "8                      Honduras     EU   193056.53\n",
      "9                         India     EU   156386.90\n",
      "10                    Indonesia     EU    97621.73\n",
      "11                        Kenya     EU    17767.31\n",
      "12                       Mexico     EU    23943.50\n",
      "13                    Nicaragua     EU    53344.60\n",
      "14             Papua New Guinea     EU    19911.64\n",
      "15                         Peru     EU    91928.09\n",
      "16                     Viet Nam     EU   548093.36\n",
      "17                       Uganda     EU   212314.23\n",
      "18  United Republic of Tanzania     EU    33227.79\n"
     ]
    }
   ],
   "source": [
    "print(selected_df_EU)"
   ]
  },
  {
   "cell_type": "code",
   "execution_count": 335,
   "id": "40de18c6",
   "metadata": {},
   "outputs": [],
   "source": [
    "# Data processing for USA\n",
    "selected_df_US = selected_df_US.loc[:, ['Reporter Countries', 'Countries Group', 'Value']]\n",
    "selected_df_US.columns = ['source', 'target', 'value']"
   ]
  },
  {
   "cell_type": "code",
   "execution_count": 336,
   "id": "4acb7180",
   "metadata": {},
   "outputs": [
    {
     "name": "stdout",
     "output_type": "stream",
     "text": [
      "                          source target      value\n",
      "38                        Brazil    USA  445607.72\n",
      "72               China, mainland    USA    3851.99\n",
      "116                     Colombia    USA  284124.44\n",
      "160                   Costa Rica    USA   28993.35\n",
      "205                      Ecuador    USA     215.35\n",
      "249                  El Salvador    USA   15601.23\n",
      "280                     Ethiopia    USA   30934.90\n",
      "324                    Guatemala    USA   90250.62\n",
      "360                     Honduras    USA  110352.68\n",
      "414                        India    USA    2906.95\n",
      "449                    Indonesia    USA   57694.03\n",
      "479                        Kenya    USA    5464.37\n",
      "518                       Mexico    USA   62090.33\n",
      "557                    Nicaragua    USA   67823.39\n",
      "572             Papua New Guinea    USA    8957.75\n",
      "615                         Peru    USA   42863.92\n",
      "638                       Uganda    USA   22329.40\n",
      "664  United Republic of Tanzania    USA    2410.09\n",
      "700                     Viet Nam    USA  143255.49\n"
     ]
    }
   ],
   "source": [
    "print(selected_df_US)"
   ]
  },
  {
   "cell_type": "code",
   "execution_count": 337,
   "id": "c8b636c6",
   "metadata": {},
   "outputs": [],
   "source": [
    "# make links for all nodes(EU + USA)\n",
    "links = pd.concat([selected_df_EU, grouped_df_EU_partner, selected_df_US], axis=0)"
   ]
  },
  {
   "cell_type": "code",
   "execution_count": 338,
   "id": "40afe880",
   "metadata": {},
   "outputs": [
    {
     "name": "stdout",
     "output_type": "stream",
     "text": [
      "                          source target       value\n",
      "0                         Brazil     EU  1049988.02\n",
      "1                China, mainland     EU    13537.39\n",
      "2                       Colombia     EU   176480.77\n",
      "3                     Costa Rica     EU    28297.87\n",
      "4                        Ecuador     EU      433.56\n",
      "..                           ...    ...         ...\n",
      "572             Papua New Guinea    USA     8957.75\n",
      "615                         Peru    USA    42863.92\n",
      "638                       Uganda    USA    22329.40\n",
      "664  United Republic of Tanzania    USA     2410.09\n",
      "700                     Viet Nam    USA   143255.49\n",
      "\n",
      "[65 rows x 3 columns]\n"
     ]
    }
   ],
   "source": [
    "print(links)"
   ]
  },
  {
   "cell_type": "code",
   "execution_count": 339,
   "id": "81e0f4d0",
   "metadata": {},
   "outputs": [],
   "source": [
    "# make unique node (sources and targets)\n",
    "unique_source_target = list(pd.unique(links[['source','target']].values.ravel('k')))"
   ]
  },
  {
   "cell_type": "code",
   "execution_count": 340,
   "id": "d96d2683",
   "metadata": {},
   "outputs": [
    {
     "name": "stdout",
     "output_type": "stream",
     "text": [
      "['Brazil', 'China, mainland', 'Colombia', 'Costa Rica', 'Ecuador', 'El Salvador', 'Ethiopia', 'Guatemala', 'Honduras', 'India', 'Indonesia', 'Kenya', 'Mexico', 'Nicaragua', 'Papua New Guinea', 'Peru', 'Viet Nam', 'Uganda', 'United Republic of Tanzania', 'EU', 'Austria', 'Belgium', 'Bulgaria', 'Croatia', 'Cyprus', 'Czechia', 'Denmark', 'Estonia', 'Finland', 'France', 'Germany', 'Greece', 'Hungary', 'Ireland', 'Italy', 'Latvia', 'Lithuania', 'Luxembourg', 'Malta', 'Netherlands', 'Poland', 'Portugal', 'Romania', 'Slovakia', 'Slovenia', 'Spain', 'Sweden', 'USA']\n"
     ]
    }
   ],
   "source": [
    "print(unique_source_target)"
   ]
  },
  {
   "cell_type": "code",
   "execution_count": 341,
   "id": "999bd19e",
   "metadata": {},
   "outputs": [
    {
     "data": {
      "text/plain": [
       "{'Brazil': 0,\n",
       " 'China, mainland': 1,\n",
       " 'Colombia': 2,\n",
       " 'Costa Rica': 3,\n",
       " 'Ecuador': 4,\n",
       " 'El Salvador': 5,\n",
       " 'Ethiopia': 6,\n",
       " 'Guatemala': 7,\n",
       " 'Honduras': 8,\n",
       " 'India': 9,\n",
       " 'Indonesia': 10,\n",
       " 'Kenya': 11,\n",
       " 'Mexico': 12,\n",
       " 'Nicaragua': 13,\n",
       " 'Papua New Guinea': 14,\n",
       " 'Peru': 15,\n",
       " 'Viet Nam': 16,\n",
       " 'Uganda': 17,\n",
       " 'United Republic of Tanzania': 18,\n",
       " 'EU': 19,\n",
       " 'Austria': 20,\n",
       " 'Belgium': 21,\n",
       " 'Bulgaria': 22,\n",
       " 'Croatia': 23,\n",
       " 'Cyprus': 24,\n",
       " 'Czechia': 25,\n",
       " 'Denmark': 26,\n",
       " 'Estonia': 27,\n",
       " 'Finland': 28,\n",
       " 'France': 29,\n",
       " 'Germany': 30,\n",
       " 'Greece': 31,\n",
       " 'Hungary': 32,\n",
       " 'Ireland': 33,\n",
       " 'Italy': 34,\n",
       " 'Latvia': 35,\n",
       " 'Lithuania': 36,\n",
       " 'Luxembourg': 37,\n",
       " 'Malta': 38,\n",
       " 'Netherlands': 39,\n",
       " 'Poland': 40,\n",
       " 'Portugal': 41,\n",
       " 'Romania': 42,\n",
       " 'Slovakia': 43,\n",
       " 'Slovenia': 44,\n",
       " 'Spain': 45,\n",
       " 'Sweden': 46,\n",
       " 'USA': 47}"
      ]
     },
     "execution_count": 341,
     "metadata": {},
     "output_type": "execute_result"
    }
   ],
   "source": [
    "# mapping nodes\n",
    "mapping_dict = {k: v for v, k in enumerate(unique_source_target)}\n",
    "mapping_dict"
   ]
  },
  {
   "cell_type": "code",
   "execution_count": 342,
   "id": "7fbb4dfb",
   "metadata": {},
   "outputs": [],
   "source": [
    "links['source'] = links['source'].map(mapping_dict)\n",
    "links['target'] = links['target'].map(mapping_dict)"
   ]
  },
  {
   "cell_type": "code",
   "execution_count": 343,
   "id": "46258f74",
   "metadata": {},
   "outputs": [
    {
     "name": "stdout",
     "output_type": "stream",
     "text": [
      "     source  target       value\n",
      "0         0      19  1049988.02\n",
      "1         1      19    13537.39\n",
      "2         2      19   176480.77\n",
      "3         3      19    28297.87\n",
      "4         4      19      433.56\n",
      "..      ...     ...         ...\n",
      "572      14      47     8957.75\n",
      "615      15      47    42863.92\n",
      "638      17      47    22329.40\n",
      "664      18      47     2410.09\n",
      "700      16      47   143255.49\n",
      "\n",
      "[65 rows x 3 columns]\n"
     ]
    }
   ],
   "source": [
    "print(links)"
   ]
  },
  {
   "cell_type": "code",
   "execution_count": 344,
   "id": "e4f07633",
   "metadata": {},
   "outputs": [],
   "source": [
    "links_dict = links.to_dict(orient='list')"
   ]
  },
  {
   "cell_type": "code",
   "execution_count": 345,
   "id": "7ce631b2",
   "metadata": {},
   "outputs": [
    {
     "name": "stdout",
     "output_type": "stream",
     "text": [
      "{'source': [0, 1, 2, 3, 4, 5, 6, 7, 8, 9, 10, 11, 12, 13, 14, 15, 16, 17, 18, 19, 19, 19, 19, 19, 19, 19, 19, 19, 19, 19, 19, 19, 19, 19, 19, 19, 19, 19, 19, 19, 19, 19, 19, 19, 19, 19, 0, 1, 2, 3, 4, 5, 6, 7, 8, 9, 10, 11, 12, 13, 14, 15, 17, 18, 16], 'target': [19, 19, 19, 19, 19, 19, 19, 19, 19, 19, 19, 19, 19, 19, 19, 19, 19, 19, 19, 20, 21, 22, 23, 24, 25, 26, 27, 28, 29, 30, 31, 32, 33, 34, 35, 36, 37, 38, 39, 40, 41, 42, 43, 44, 45, 46, 47, 47, 47, 47, 47, 47, 47, 47, 47, 47, 47, 47, 47, 47, 47, 47, 47, 47, 47], 'value': [1049988.02, 13537.39, 176480.77, 28297.87, 433.56, 6818.7699999999995, 118729.75, 45684.76, 193056.53, 156386.9, 97621.73, 17767.31, 23943.5, 53344.600000000006, 19911.64, 91928.09, 548093.36, 212314.22999999998, 33227.79, 2453.29, 507123.94, 12872.400000000001, 15389.779999999999, 952.8100000000001, 754.61, 9355.81, 822.02, 49852.55, 130290.73, 1020574.36, 51005.11, 119.71, 4029.31, 585005.96, 4440.05, 2035.0, 17.71, 53.94, 64259.270000000004, 33742.15, 28264.469999999998, 10176.89, 3845.23, 32647.93, 243108.6, 74372.94, 445607.72, 3851.99, 284124.44, 28993.35, 215.35, 15601.23, 30934.9, 90250.62, 110352.68, 2906.95, 57694.03, 5464.37, 62090.33, 67823.39, 8957.75, 42863.92, 22329.4, 2410.09, 143255.49]}\n"
     ]
    }
   ],
   "source": [
    "print(links_dict)"
   ]
  },
  {
   "cell_type": "code",
   "execution_count": 346,
   "id": "d66ec38d",
   "metadata": {},
   "outputs": [],
   "source": [
    "# Load ploty libray to draw multilevel Sankey diagram\n",
    "import plotly.graph_objects as go"
   ]
  },
  {
   "cell_type": "code",
   "execution_count": 347,
   "id": "72fa4ee1",
   "metadata": {},
   "outputs": [],
   "source": [
    "color_palette = ['#1f77b4', '#ff7f0e', '#2ca02c', '#d62728', '#9467bd',\n",
    "                 '#8c564b', '#e377c2', '#7f7f7f', '#bcbd22', '#17becf',\n",
    "                 '#1f77b4', '#ff7f0e', '#2ca02c', '#d62728', '#9467bd',\n",
    "                 '#8c564b', '#e377c2', '#7f7f7f', '#bcbd22', '#17becf',\n",
    "                 '#1f77b4', '#ff7f0e', '#2ca02c', '#d62728', '#9467bd',\n",
    "                 '#8c564b', '#e377c2', '#7f7f7f', '#bcbd22', '#17becf',\n",
    "                 '#1f77b4', '#ff7f0e', '#2ca02c', '#d62728', '#9467bd',\n",
    "                 '#8c564b', '#e377c2', '#7f7f7f', '#bcbd22', '#17becf',\n",
    "                 '#1f77b4', '#ff7f0e', '#2ca02c', '#d62728', '#9467bd']\n",
    "# define the Sankey diagram trace with custom node colors"
   ]
  },
  {
   "cell_type": "code",
   "execution_count": 352,
   "id": "aeb73aaf",
   "metadata": {},
   "outputs": [],
   "source": [
    "# make colors for nodes\n",
    "colorscale = [\n",
    "    '#4575b4',  # blue\n",
    "    '#91bfdb',\n",
    "    '#e0f3f8',\n",
    "    '#ffffbf',  # yellow\n",
    "    '#fee090',\n",
    "    '#fc8d59',  # red\n",
    "    '#d73027',\n",
    "]\n",
    "colors = [colorscale[i % len(colorscale)] for i in range(76)]"
   ]
  },
  {
   "cell_type": "code",
   "execution_count": 354,
   "id": "5bbac2f5",
   "metadata": {},
   "outputs": [],
   "source": [
    "# Draw multilevel Sankey diagram \n",
    "fig = go.Figure(data=[go.Sankey(\n",
    "    node = dict(\n",
    "        pad = 15,\n",
    "        thickness=15,\n",
    "        line=dict(color='black', width=0.5),\n",
    "        label = unique_source_target,\n",
    "        color = color_palette\n",
    "    ),\n",
    "    link = dict(\n",
    "        source= links_dict['source'],\n",
    "        target = links_dict['target'],\n",
    "        value = links_dict['value'],\n",
    "    )\n",
    ")\n",
    "])"
   ]
  },
  {
   "cell_type": "code",
   "execution_count": 350,
   "id": "4428181b",
   "metadata": {},
   "outputs": [
    {
     "data": {
      "application/vnd.plotly.v1+json": {
       "config": {
        "plotlyServerURL": "https://plot.ly"
       },
       "data": [
        {
         "link": {
          "source": [
           0,
           1,
           2,
           3,
           4,
           5,
           6,
           7,
           8,
           9,
           10,
           11,
           12,
           13,
           14,
           15,
           16,
           17,
           18,
           19,
           19,
           19,
           19,
           19,
           19,
           19,
           19,
           19,
           19,
           19,
           19,
           19,
           19,
           19,
           19,
           19,
           19,
           19,
           19,
           19,
           19,
           19,
           19,
           19,
           19,
           19,
           0,
           1,
           2,
           3,
           4,
           5,
           6,
           7,
           8,
           9,
           10,
           11,
           12,
           13,
           14,
           15,
           17,
           18,
           16
          ],
          "target": [
           19,
           19,
           19,
           19,
           19,
           19,
           19,
           19,
           19,
           19,
           19,
           19,
           19,
           19,
           19,
           19,
           19,
           19,
           19,
           20,
           21,
           22,
           23,
           24,
           25,
           26,
           27,
           28,
           29,
           30,
           31,
           32,
           33,
           34,
           35,
           36,
           37,
           38,
           39,
           40,
           41,
           42,
           43,
           44,
           45,
           46,
           47,
           47,
           47,
           47,
           47,
           47,
           47,
           47,
           47,
           47,
           47,
           47,
           47,
           47,
           47,
           47,
           47,
           47,
           47
          ],
          "value": [
           1049988.02,
           13537.39,
           176480.77,
           28297.87,
           433.56,
           6818.7699999999995,
           118729.75,
           45684.76,
           193056.53,
           156386.9,
           97621.73,
           17767.31,
           23943.5,
           53344.600000000006,
           19911.64,
           91928.09,
           548093.36,
           212314.22999999998,
           33227.79,
           2453.29,
           507123.94,
           12872.400000000001,
           15389.779999999999,
           952.8100000000001,
           754.61,
           9355.81,
           822.02,
           49852.55,
           130290.73,
           1020574.36,
           51005.11,
           119.71,
           4029.31,
           585005.96,
           4440.05,
           2035,
           17.71,
           53.94,
           64259.270000000004,
           33742.15,
           28264.469999999998,
           10176.89,
           3845.23,
           32647.93,
           243108.6,
           74372.94,
           445607.72,
           3851.99,
           284124.44,
           28993.35,
           215.35,
           15601.23,
           30934.9,
           90250.62,
           110352.68,
           2906.95,
           57694.03,
           5464.37,
           62090.33,
           67823.39,
           8957.75,
           42863.92,
           22329.4,
           2410.09,
           143255.49
          ]
         },
         "node": {
          "color": [
           "#1f77b4",
           "#ff7f0e",
           "#2ca02c",
           "#d62728",
           "#9467bd",
           "#8c564b",
           "#e377c2",
           "#7f7f7f",
           "#bcbd22",
           "#17becf",
           "#1f77b4",
           "#ff7f0e",
           "#2ca02c",
           "#d62728",
           "#9467bd",
           "#8c564b",
           "#e377c2",
           "#7f7f7f",
           "#bcbd22",
           "#17becf",
           "#1f77b4",
           "#ff7f0e",
           "#2ca02c",
           "#d62728",
           "#9467bd",
           "#8c564b",
           "#e377c2",
           "#7f7f7f",
           "#bcbd22",
           "#17becf",
           "#1f77b4",
           "#ff7f0e",
           "#2ca02c",
           "#d62728",
           "#9467bd",
           "#8c564b",
           "#e377c2",
           "#7f7f7f",
           "#bcbd22",
           "#17becf",
           "#1f77b4",
           "#ff7f0e",
           "#2ca02c",
           "#d62728",
           "#9467bd"
          ],
          "label": [
           "Brazil",
           "China, mainland",
           "Colombia",
           "Costa Rica",
           "Ecuador",
           "El Salvador",
           "Ethiopia",
           "Guatemala",
           "Honduras",
           "India",
           "Indonesia",
           "Kenya",
           "Mexico",
           "Nicaragua",
           "Papua New Guinea",
           "Peru",
           "Viet Nam",
           "Uganda",
           "United Republic of Tanzania",
           "EU",
           "Austria",
           "Belgium",
           "Bulgaria",
           "Croatia",
           "Cyprus",
           "Czechia",
           "Denmark",
           "Estonia",
           "Finland",
           "France",
           "Germany",
           "Greece",
           "Hungary",
           "Ireland",
           "Italy",
           "Latvia",
           "Lithuania",
           "Luxembourg",
           "Malta",
           "Netherlands",
           "Poland",
           "Portugal",
           "Romania",
           "Slovakia",
           "Slovenia",
           "Spain",
           "Sweden",
           "USA"
          ],
          "line": {
           "color": "black",
           "width": 0.5
          },
          "pad": 15,
          "thickness": 15
         },
         "type": "sankey"
        }
       ],
       "layout": {
        "font": {
         "size": 10
        },
        "template": {
         "data": {
          "bar": [
           {
            "error_x": {
             "color": "#2a3f5f"
            },
            "error_y": {
             "color": "#2a3f5f"
            },
            "marker": {
             "line": {
              "color": "#E5ECF6",
              "width": 0.5
             },
             "pattern": {
              "fillmode": "overlay",
              "size": 10,
              "solidity": 0.2
             }
            },
            "type": "bar"
           }
          ],
          "barpolar": [
           {
            "marker": {
             "line": {
              "color": "#E5ECF6",
              "width": 0.5
             },
             "pattern": {
              "fillmode": "overlay",
              "size": 10,
              "solidity": 0.2
             }
            },
            "type": "barpolar"
           }
          ],
          "carpet": [
           {
            "aaxis": {
             "endlinecolor": "#2a3f5f",
             "gridcolor": "white",
             "linecolor": "white",
             "minorgridcolor": "white",
             "startlinecolor": "#2a3f5f"
            },
            "baxis": {
             "endlinecolor": "#2a3f5f",
             "gridcolor": "white",
             "linecolor": "white",
             "minorgridcolor": "white",
             "startlinecolor": "#2a3f5f"
            },
            "type": "carpet"
           }
          ],
          "choropleth": [
           {
            "colorbar": {
             "outlinewidth": 0,
             "ticks": ""
            },
            "type": "choropleth"
           }
          ],
          "contour": [
           {
            "colorbar": {
             "outlinewidth": 0,
             "ticks": ""
            },
            "colorscale": [
             [
              0,
              "#0d0887"
             ],
             [
              0.1111111111111111,
              "#46039f"
             ],
             [
              0.2222222222222222,
              "#7201a8"
             ],
             [
              0.3333333333333333,
              "#9c179e"
             ],
             [
              0.4444444444444444,
              "#bd3786"
             ],
             [
              0.5555555555555556,
              "#d8576b"
             ],
             [
              0.6666666666666666,
              "#ed7953"
             ],
             [
              0.7777777777777778,
              "#fb9f3a"
             ],
             [
              0.8888888888888888,
              "#fdca26"
             ],
             [
              1,
              "#f0f921"
             ]
            ],
            "type": "contour"
           }
          ],
          "contourcarpet": [
           {
            "colorbar": {
             "outlinewidth": 0,
             "ticks": ""
            },
            "type": "contourcarpet"
           }
          ],
          "heatmap": [
           {
            "colorbar": {
             "outlinewidth": 0,
             "ticks": ""
            },
            "colorscale": [
             [
              0,
              "#0d0887"
             ],
             [
              0.1111111111111111,
              "#46039f"
             ],
             [
              0.2222222222222222,
              "#7201a8"
             ],
             [
              0.3333333333333333,
              "#9c179e"
             ],
             [
              0.4444444444444444,
              "#bd3786"
             ],
             [
              0.5555555555555556,
              "#d8576b"
             ],
             [
              0.6666666666666666,
              "#ed7953"
             ],
             [
              0.7777777777777778,
              "#fb9f3a"
             ],
             [
              0.8888888888888888,
              "#fdca26"
             ],
             [
              1,
              "#f0f921"
             ]
            ],
            "type": "heatmap"
           }
          ],
          "heatmapgl": [
           {
            "colorbar": {
             "outlinewidth": 0,
             "ticks": ""
            },
            "colorscale": [
             [
              0,
              "#0d0887"
             ],
             [
              0.1111111111111111,
              "#46039f"
             ],
             [
              0.2222222222222222,
              "#7201a8"
             ],
             [
              0.3333333333333333,
              "#9c179e"
             ],
             [
              0.4444444444444444,
              "#bd3786"
             ],
             [
              0.5555555555555556,
              "#d8576b"
             ],
             [
              0.6666666666666666,
              "#ed7953"
             ],
             [
              0.7777777777777778,
              "#fb9f3a"
             ],
             [
              0.8888888888888888,
              "#fdca26"
             ],
             [
              1,
              "#f0f921"
             ]
            ],
            "type": "heatmapgl"
           }
          ],
          "histogram": [
           {
            "marker": {
             "pattern": {
              "fillmode": "overlay",
              "size": 10,
              "solidity": 0.2
             }
            },
            "type": "histogram"
           }
          ],
          "histogram2d": [
           {
            "colorbar": {
             "outlinewidth": 0,
             "ticks": ""
            },
            "colorscale": [
             [
              0,
              "#0d0887"
             ],
             [
              0.1111111111111111,
              "#46039f"
             ],
             [
              0.2222222222222222,
              "#7201a8"
             ],
             [
              0.3333333333333333,
              "#9c179e"
             ],
             [
              0.4444444444444444,
              "#bd3786"
             ],
             [
              0.5555555555555556,
              "#d8576b"
             ],
             [
              0.6666666666666666,
              "#ed7953"
             ],
             [
              0.7777777777777778,
              "#fb9f3a"
             ],
             [
              0.8888888888888888,
              "#fdca26"
             ],
             [
              1,
              "#f0f921"
             ]
            ],
            "type": "histogram2d"
           }
          ],
          "histogram2dcontour": [
           {
            "colorbar": {
             "outlinewidth": 0,
             "ticks": ""
            },
            "colorscale": [
             [
              0,
              "#0d0887"
             ],
             [
              0.1111111111111111,
              "#46039f"
             ],
             [
              0.2222222222222222,
              "#7201a8"
             ],
             [
              0.3333333333333333,
              "#9c179e"
             ],
             [
              0.4444444444444444,
              "#bd3786"
             ],
             [
              0.5555555555555556,
              "#d8576b"
             ],
             [
              0.6666666666666666,
              "#ed7953"
             ],
             [
              0.7777777777777778,
              "#fb9f3a"
             ],
             [
              0.8888888888888888,
              "#fdca26"
             ],
             [
              1,
              "#f0f921"
             ]
            ],
            "type": "histogram2dcontour"
           }
          ],
          "mesh3d": [
           {
            "colorbar": {
             "outlinewidth": 0,
             "ticks": ""
            },
            "type": "mesh3d"
           }
          ],
          "parcoords": [
           {
            "line": {
             "colorbar": {
              "outlinewidth": 0,
              "ticks": ""
             }
            },
            "type": "parcoords"
           }
          ],
          "pie": [
           {
            "automargin": true,
            "type": "pie"
           }
          ],
          "scatter": [
           {
            "marker": {
             "colorbar": {
              "outlinewidth": 0,
              "ticks": ""
             }
            },
            "type": "scatter"
           }
          ],
          "scatter3d": [
           {
            "line": {
             "colorbar": {
              "outlinewidth": 0,
              "ticks": ""
             }
            },
            "marker": {
             "colorbar": {
              "outlinewidth": 0,
              "ticks": ""
             }
            },
            "type": "scatter3d"
           }
          ],
          "scattercarpet": [
           {
            "marker": {
             "colorbar": {
              "outlinewidth": 0,
              "ticks": ""
             }
            },
            "type": "scattercarpet"
           }
          ],
          "scattergeo": [
           {
            "marker": {
             "colorbar": {
              "outlinewidth": 0,
              "ticks": ""
             }
            },
            "type": "scattergeo"
           }
          ],
          "scattergl": [
           {
            "marker": {
             "colorbar": {
              "outlinewidth": 0,
              "ticks": ""
             }
            },
            "type": "scattergl"
           }
          ],
          "scattermapbox": [
           {
            "marker": {
             "colorbar": {
              "outlinewidth": 0,
              "ticks": ""
             }
            },
            "type": "scattermapbox"
           }
          ],
          "scatterpolar": [
           {
            "marker": {
             "colorbar": {
              "outlinewidth": 0,
              "ticks": ""
             }
            },
            "type": "scatterpolar"
           }
          ],
          "scatterpolargl": [
           {
            "marker": {
             "colorbar": {
              "outlinewidth": 0,
              "ticks": ""
             }
            },
            "type": "scatterpolargl"
           }
          ],
          "scatterternary": [
           {
            "marker": {
             "colorbar": {
              "outlinewidth": 0,
              "ticks": ""
             }
            },
            "type": "scatterternary"
           }
          ],
          "surface": [
           {
            "colorbar": {
             "outlinewidth": 0,
             "ticks": ""
            },
            "colorscale": [
             [
              0,
              "#0d0887"
             ],
             [
              0.1111111111111111,
              "#46039f"
             ],
             [
              0.2222222222222222,
              "#7201a8"
             ],
             [
              0.3333333333333333,
              "#9c179e"
             ],
             [
              0.4444444444444444,
              "#bd3786"
             ],
             [
              0.5555555555555556,
              "#d8576b"
             ],
             [
              0.6666666666666666,
              "#ed7953"
             ],
             [
              0.7777777777777778,
              "#fb9f3a"
             ],
             [
              0.8888888888888888,
              "#fdca26"
             ],
             [
              1,
              "#f0f921"
             ]
            ],
            "type": "surface"
           }
          ],
          "table": [
           {
            "cells": {
             "fill": {
              "color": "#EBF0F8"
             },
             "line": {
              "color": "white"
             }
            },
            "header": {
             "fill": {
              "color": "#C8D4E3"
             },
             "line": {
              "color": "white"
             }
            },
            "type": "table"
           }
          ]
         },
         "layout": {
          "annotationdefaults": {
           "arrowcolor": "#2a3f5f",
           "arrowhead": 0,
           "arrowwidth": 1
          },
          "autotypenumbers": "strict",
          "coloraxis": {
           "colorbar": {
            "outlinewidth": 0,
            "ticks": ""
           }
          },
          "colorscale": {
           "diverging": [
            [
             0,
             "#8e0152"
            ],
            [
             0.1,
             "#c51b7d"
            ],
            [
             0.2,
             "#de77ae"
            ],
            [
             0.3,
             "#f1b6da"
            ],
            [
             0.4,
             "#fde0ef"
            ],
            [
             0.5,
             "#f7f7f7"
            ],
            [
             0.6,
             "#e6f5d0"
            ],
            [
             0.7,
             "#b8e186"
            ],
            [
             0.8,
             "#7fbc41"
            ],
            [
             0.9,
             "#4d9221"
            ],
            [
             1,
             "#276419"
            ]
           ],
           "sequential": [
            [
             0,
             "#0d0887"
            ],
            [
             0.1111111111111111,
             "#46039f"
            ],
            [
             0.2222222222222222,
             "#7201a8"
            ],
            [
             0.3333333333333333,
             "#9c179e"
            ],
            [
             0.4444444444444444,
             "#bd3786"
            ],
            [
             0.5555555555555556,
             "#d8576b"
            ],
            [
             0.6666666666666666,
             "#ed7953"
            ],
            [
             0.7777777777777778,
             "#fb9f3a"
            ],
            [
             0.8888888888888888,
             "#fdca26"
            ],
            [
             1,
             "#f0f921"
            ]
           ],
           "sequentialminus": [
            [
             0,
             "#0d0887"
            ],
            [
             0.1111111111111111,
             "#46039f"
            ],
            [
             0.2222222222222222,
             "#7201a8"
            ],
            [
             0.3333333333333333,
             "#9c179e"
            ],
            [
             0.4444444444444444,
             "#bd3786"
            ],
            [
             0.5555555555555556,
             "#d8576b"
            ],
            [
             0.6666666666666666,
             "#ed7953"
            ],
            [
             0.7777777777777778,
             "#fb9f3a"
            ],
            [
             0.8888888888888888,
             "#fdca26"
            ],
            [
             1,
             "#f0f921"
            ]
           ]
          },
          "colorway": [
           "#636efa",
           "#EF553B",
           "#00cc96",
           "#ab63fa",
           "#FFA15A",
           "#19d3f3",
           "#FF6692",
           "#B6E880",
           "#FF97FF",
           "#FECB52"
          ],
          "font": {
           "color": "#2a3f5f"
          },
          "geo": {
           "bgcolor": "white",
           "lakecolor": "white",
           "landcolor": "#E5ECF6",
           "showlakes": true,
           "showland": true,
           "subunitcolor": "white"
          },
          "hoverlabel": {
           "align": "left"
          },
          "hovermode": "closest",
          "mapbox": {
           "style": "light"
          },
          "paper_bgcolor": "white",
          "plot_bgcolor": "#E5ECF6",
          "polar": {
           "angularaxis": {
            "gridcolor": "white",
            "linecolor": "white",
            "ticks": ""
           },
           "bgcolor": "#E5ECF6",
           "radialaxis": {
            "gridcolor": "white",
            "linecolor": "white",
            "ticks": ""
           }
          },
          "scene": {
           "xaxis": {
            "backgroundcolor": "#E5ECF6",
            "gridcolor": "white",
            "gridwidth": 2,
            "linecolor": "white",
            "showbackground": true,
            "ticks": "",
            "zerolinecolor": "white"
           },
           "yaxis": {
            "backgroundcolor": "#E5ECF6",
            "gridcolor": "white",
            "gridwidth": 2,
            "linecolor": "white",
            "showbackground": true,
            "ticks": "",
            "zerolinecolor": "white"
           },
           "zaxis": {
            "backgroundcolor": "#E5ECF6",
            "gridcolor": "white",
            "gridwidth": 2,
            "linecolor": "white",
            "showbackground": true,
            "ticks": "",
            "zerolinecolor": "white"
           }
          },
          "shapedefaults": {
           "line": {
            "color": "#2a3f5f"
           }
          },
          "ternary": {
           "aaxis": {
            "gridcolor": "white",
            "linecolor": "white",
            "ticks": ""
           },
           "baxis": {
            "gridcolor": "white",
            "linecolor": "white",
            "ticks": ""
           },
           "bgcolor": "#E5ECF6",
           "caxis": {
            "gridcolor": "white",
            "linecolor": "white",
            "ticks": ""
           }
          },
          "title": {
           "x": 0.05
          },
          "xaxis": {
           "automargin": true,
           "gridcolor": "white",
           "linecolor": "white",
           "ticks": "",
           "title": {
            "standoff": 15
           },
           "zerolinecolor": "white",
           "zerolinewidth": 2
          },
          "yaxis": {
           "automargin": true,
           "gridcolor": "white",
           "linecolor": "white",
           "ticks": "",
           "title": {
            "standoff": 15
           },
           "zerolinecolor": "white",
           "zerolinewidth": 2
          }
         }
        },
        "title": {
         "text": "Coffee bean shipments from major coffee bean producing countries and imports from USA & EU<br>Data base year: 2021"
        }
       }
      },
      "text/html": [
       "<div>                            <div id=\"f526e6bf-b5a2-42fb-a185-ea8857bc9afe\" class=\"plotly-graph-div\" style=\"height:525px; width:100%;\"></div>            <script type=\"text/javascript\">                require([\"plotly\"], function(Plotly) {                    window.PLOTLYENV=window.PLOTLYENV || {};                                    if (document.getElementById(\"f526e6bf-b5a2-42fb-a185-ea8857bc9afe\")) {                    Plotly.newPlot(                        \"f526e6bf-b5a2-42fb-a185-ea8857bc9afe\",                        [{\"link\":{\"source\":[0,1,2,3,4,5,6,7,8,9,10,11,12,13,14,15,16,17,18,19,19,19,19,19,19,19,19,19,19,19,19,19,19,19,19,19,19,19,19,19,19,19,19,19,19,19,0,1,2,3,4,5,6,7,8,9,10,11,12,13,14,15,17,18,16],\"target\":[19,19,19,19,19,19,19,19,19,19,19,19,19,19,19,19,19,19,19,20,21,22,23,24,25,26,27,28,29,30,31,32,33,34,35,36,37,38,39,40,41,42,43,44,45,46,47,47,47,47,47,47,47,47,47,47,47,47,47,47,47,47,47,47,47],\"value\":[1049988.02,13537.39,176480.77,28297.87,433.56,6818.7699999999995,118729.75,45684.76,193056.53,156386.9,97621.73,17767.31,23943.5,53344.600000000006,19911.64,91928.09,548093.36,212314.22999999998,33227.79,2453.29,507123.94,12872.400000000001,15389.779999999999,952.8100000000001,754.61,9355.81,822.02,49852.55,130290.73,1020574.36,51005.11,119.71,4029.31,585005.96,4440.05,2035.0,17.71,53.94,64259.270000000004,33742.15,28264.469999999998,10176.89,3845.23,32647.93,243108.6,74372.94,445607.72,3851.99,284124.44,28993.35,215.35,15601.23,30934.9,90250.62,110352.68,2906.95,57694.03,5464.37,62090.33,67823.39,8957.75,42863.92,22329.4,2410.09,143255.49]},\"node\":{\"color\":[\"#1f77b4\",\"#ff7f0e\",\"#2ca02c\",\"#d62728\",\"#9467bd\",\"#8c564b\",\"#e377c2\",\"#7f7f7f\",\"#bcbd22\",\"#17becf\",\"#1f77b4\",\"#ff7f0e\",\"#2ca02c\",\"#d62728\",\"#9467bd\",\"#8c564b\",\"#e377c2\",\"#7f7f7f\",\"#bcbd22\",\"#17becf\",\"#1f77b4\",\"#ff7f0e\",\"#2ca02c\",\"#d62728\",\"#9467bd\",\"#8c564b\",\"#e377c2\",\"#7f7f7f\",\"#bcbd22\",\"#17becf\",\"#1f77b4\",\"#ff7f0e\",\"#2ca02c\",\"#d62728\",\"#9467bd\",\"#8c564b\",\"#e377c2\",\"#7f7f7f\",\"#bcbd22\",\"#17becf\",\"#1f77b4\",\"#ff7f0e\",\"#2ca02c\",\"#d62728\",\"#9467bd\"],\"label\":[\"Brazil\",\"China, mainland\",\"Colombia\",\"Costa Rica\",\"Ecuador\",\"El Salvador\",\"Ethiopia\",\"Guatemala\",\"Honduras\",\"India\",\"Indonesia\",\"Kenya\",\"Mexico\",\"Nicaragua\",\"Papua New Guinea\",\"Peru\",\"Viet Nam\",\"Uganda\",\"United Republic of Tanzania\",\"EU\",\"Austria\",\"Belgium\",\"Bulgaria\",\"Croatia\",\"Cyprus\",\"Czechia\",\"Denmark\",\"Estonia\",\"Finland\",\"France\",\"Germany\",\"Greece\",\"Hungary\",\"Ireland\",\"Italy\",\"Latvia\",\"Lithuania\",\"Luxembourg\",\"Malta\",\"Netherlands\",\"Poland\",\"Portugal\",\"Romania\",\"Slovakia\",\"Slovenia\",\"Spain\",\"Sweden\",\"USA\"],\"line\":{\"color\":\"black\",\"width\":0.5},\"pad\":15,\"thickness\":15},\"type\":\"sankey\"}],                        {\"template\":{\"data\":{\"bar\":[{\"error_x\":{\"color\":\"#2a3f5f\"},\"error_y\":{\"color\":\"#2a3f5f\"},\"marker\":{\"line\":{\"color\":\"#E5ECF6\",\"width\":0.5},\"pattern\":{\"fillmode\":\"overlay\",\"size\":10,\"solidity\":0.2}},\"type\":\"bar\"}],\"barpolar\":[{\"marker\":{\"line\":{\"color\":\"#E5ECF6\",\"width\":0.5},\"pattern\":{\"fillmode\":\"overlay\",\"size\":10,\"solidity\":0.2}},\"type\":\"barpolar\"}],\"carpet\":[{\"aaxis\":{\"endlinecolor\":\"#2a3f5f\",\"gridcolor\":\"white\",\"linecolor\":\"white\",\"minorgridcolor\":\"white\",\"startlinecolor\":\"#2a3f5f\"},\"baxis\":{\"endlinecolor\":\"#2a3f5f\",\"gridcolor\":\"white\",\"linecolor\":\"white\",\"minorgridcolor\":\"white\",\"startlinecolor\":\"#2a3f5f\"},\"type\":\"carpet\"}],\"choropleth\":[{\"colorbar\":{\"outlinewidth\":0,\"ticks\":\"\"},\"type\":\"choropleth\"}],\"contour\":[{\"colorbar\":{\"outlinewidth\":0,\"ticks\":\"\"},\"colorscale\":[[0.0,\"#0d0887\"],[0.1111111111111111,\"#46039f\"],[0.2222222222222222,\"#7201a8\"],[0.3333333333333333,\"#9c179e\"],[0.4444444444444444,\"#bd3786\"],[0.5555555555555556,\"#d8576b\"],[0.6666666666666666,\"#ed7953\"],[0.7777777777777778,\"#fb9f3a\"],[0.8888888888888888,\"#fdca26\"],[1.0,\"#f0f921\"]],\"type\":\"contour\"}],\"contourcarpet\":[{\"colorbar\":{\"outlinewidth\":0,\"ticks\":\"\"},\"type\":\"contourcarpet\"}],\"heatmap\":[{\"colorbar\":{\"outlinewidth\":0,\"ticks\":\"\"},\"colorscale\":[[0.0,\"#0d0887\"],[0.1111111111111111,\"#46039f\"],[0.2222222222222222,\"#7201a8\"],[0.3333333333333333,\"#9c179e\"],[0.4444444444444444,\"#bd3786\"],[0.5555555555555556,\"#d8576b\"],[0.6666666666666666,\"#ed7953\"],[0.7777777777777778,\"#fb9f3a\"],[0.8888888888888888,\"#fdca26\"],[1.0,\"#f0f921\"]],\"type\":\"heatmap\"}],\"heatmapgl\":[{\"colorbar\":{\"outlinewidth\":0,\"ticks\":\"\"},\"colorscale\":[[0.0,\"#0d0887\"],[0.1111111111111111,\"#46039f\"],[0.2222222222222222,\"#7201a8\"],[0.3333333333333333,\"#9c179e\"],[0.4444444444444444,\"#bd3786\"],[0.5555555555555556,\"#d8576b\"],[0.6666666666666666,\"#ed7953\"],[0.7777777777777778,\"#fb9f3a\"],[0.8888888888888888,\"#fdca26\"],[1.0,\"#f0f921\"]],\"type\":\"heatmapgl\"}],\"histogram\":[{\"marker\":{\"pattern\":{\"fillmode\":\"overlay\",\"size\":10,\"solidity\":0.2}},\"type\":\"histogram\"}],\"histogram2d\":[{\"colorbar\":{\"outlinewidth\":0,\"ticks\":\"\"},\"colorscale\":[[0.0,\"#0d0887\"],[0.1111111111111111,\"#46039f\"],[0.2222222222222222,\"#7201a8\"],[0.3333333333333333,\"#9c179e\"],[0.4444444444444444,\"#bd3786\"],[0.5555555555555556,\"#d8576b\"],[0.6666666666666666,\"#ed7953\"],[0.7777777777777778,\"#fb9f3a\"],[0.8888888888888888,\"#fdca26\"],[1.0,\"#f0f921\"]],\"type\":\"histogram2d\"}],\"histogram2dcontour\":[{\"colorbar\":{\"outlinewidth\":0,\"ticks\":\"\"},\"colorscale\":[[0.0,\"#0d0887\"],[0.1111111111111111,\"#46039f\"],[0.2222222222222222,\"#7201a8\"],[0.3333333333333333,\"#9c179e\"],[0.4444444444444444,\"#bd3786\"],[0.5555555555555556,\"#d8576b\"],[0.6666666666666666,\"#ed7953\"],[0.7777777777777778,\"#fb9f3a\"],[0.8888888888888888,\"#fdca26\"],[1.0,\"#f0f921\"]],\"type\":\"histogram2dcontour\"}],\"mesh3d\":[{\"colorbar\":{\"outlinewidth\":0,\"ticks\":\"\"},\"type\":\"mesh3d\"}],\"parcoords\":[{\"line\":{\"colorbar\":{\"outlinewidth\":0,\"ticks\":\"\"}},\"type\":\"parcoords\"}],\"pie\":[{\"automargin\":true,\"type\":\"pie\"}],\"scatter\":[{\"marker\":{\"colorbar\":{\"outlinewidth\":0,\"ticks\":\"\"}},\"type\":\"scatter\"}],\"scatter3d\":[{\"line\":{\"colorbar\":{\"outlinewidth\":0,\"ticks\":\"\"}},\"marker\":{\"colorbar\":{\"outlinewidth\":0,\"ticks\":\"\"}},\"type\":\"scatter3d\"}],\"scattercarpet\":[{\"marker\":{\"colorbar\":{\"outlinewidth\":0,\"ticks\":\"\"}},\"type\":\"scattercarpet\"}],\"scattergeo\":[{\"marker\":{\"colorbar\":{\"outlinewidth\":0,\"ticks\":\"\"}},\"type\":\"scattergeo\"}],\"scattergl\":[{\"marker\":{\"colorbar\":{\"outlinewidth\":0,\"ticks\":\"\"}},\"type\":\"scattergl\"}],\"scattermapbox\":[{\"marker\":{\"colorbar\":{\"outlinewidth\":0,\"ticks\":\"\"}},\"type\":\"scattermapbox\"}],\"scatterpolar\":[{\"marker\":{\"colorbar\":{\"outlinewidth\":0,\"ticks\":\"\"}},\"type\":\"scatterpolar\"}],\"scatterpolargl\":[{\"marker\":{\"colorbar\":{\"outlinewidth\":0,\"ticks\":\"\"}},\"type\":\"scatterpolargl\"}],\"scatterternary\":[{\"marker\":{\"colorbar\":{\"outlinewidth\":0,\"ticks\":\"\"}},\"type\":\"scatterternary\"}],\"surface\":[{\"colorbar\":{\"outlinewidth\":0,\"ticks\":\"\"},\"colorscale\":[[0.0,\"#0d0887\"],[0.1111111111111111,\"#46039f\"],[0.2222222222222222,\"#7201a8\"],[0.3333333333333333,\"#9c179e\"],[0.4444444444444444,\"#bd3786\"],[0.5555555555555556,\"#d8576b\"],[0.6666666666666666,\"#ed7953\"],[0.7777777777777778,\"#fb9f3a\"],[0.8888888888888888,\"#fdca26\"],[1.0,\"#f0f921\"]],\"type\":\"surface\"}],\"table\":[{\"cells\":{\"fill\":{\"color\":\"#EBF0F8\"},\"line\":{\"color\":\"white\"}},\"header\":{\"fill\":{\"color\":\"#C8D4E3\"},\"line\":{\"color\":\"white\"}},\"type\":\"table\"}]},\"layout\":{\"annotationdefaults\":{\"arrowcolor\":\"#2a3f5f\",\"arrowhead\":0,\"arrowwidth\":1},\"autotypenumbers\":\"strict\",\"coloraxis\":{\"colorbar\":{\"outlinewidth\":0,\"ticks\":\"\"}},\"colorscale\":{\"diverging\":[[0,\"#8e0152\"],[0.1,\"#c51b7d\"],[0.2,\"#de77ae\"],[0.3,\"#f1b6da\"],[0.4,\"#fde0ef\"],[0.5,\"#f7f7f7\"],[0.6,\"#e6f5d0\"],[0.7,\"#b8e186\"],[0.8,\"#7fbc41\"],[0.9,\"#4d9221\"],[1,\"#276419\"]],\"sequential\":[[0.0,\"#0d0887\"],[0.1111111111111111,\"#46039f\"],[0.2222222222222222,\"#7201a8\"],[0.3333333333333333,\"#9c179e\"],[0.4444444444444444,\"#bd3786\"],[0.5555555555555556,\"#d8576b\"],[0.6666666666666666,\"#ed7953\"],[0.7777777777777778,\"#fb9f3a\"],[0.8888888888888888,\"#fdca26\"],[1.0,\"#f0f921\"]],\"sequentialminus\":[[0.0,\"#0d0887\"],[0.1111111111111111,\"#46039f\"],[0.2222222222222222,\"#7201a8\"],[0.3333333333333333,\"#9c179e\"],[0.4444444444444444,\"#bd3786\"],[0.5555555555555556,\"#d8576b\"],[0.6666666666666666,\"#ed7953\"],[0.7777777777777778,\"#fb9f3a\"],[0.8888888888888888,\"#fdca26\"],[1.0,\"#f0f921\"]]},\"colorway\":[\"#636efa\",\"#EF553B\",\"#00cc96\",\"#ab63fa\",\"#FFA15A\",\"#19d3f3\",\"#FF6692\",\"#B6E880\",\"#FF97FF\",\"#FECB52\"],\"font\":{\"color\":\"#2a3f5f\"},\"geo\":{\"bgcolor\":\"white\",\"lakecolor\":\"white\",\"landcolor\":\"#E5ECF6\",\"showlakes\":true,\"showland\":true,\"subunitcolor\":\"white\"},\"hoverlabel\":{\"align\":\"left\"},\"hovermode\":\"closest\",\"mapbox\":{\"style\":\"light\"},\"paper_bgcolor\":\"white\",\"plot_bgcolor\":\"#E5ECF6\",\"polar\":{\"angularaxis\":{\"gridcolor\":\"white\",\"linecolor\":\"white\",\"ticks\":\"\"},\"bgcolor\":\"#E5ECF6\",\"radialaxis\":{\"gridcolor\":\"white\",\"linecolor\":\"white\",\"ticks\":\"\"}},\"scene\":{\"xaxis\":{\"backgroundcolor\":\"#E5ECF6\",\"gridcolor\":\"white\",\"gridwidth\":2,\"linecolor\":\"white\",\"showbackground\":true,\"ticks\":\"\",\"zerolinecolor\":\"white\"},\"yaxis\":{\"backgroundcolor\":\"#E5ECF6\",\"gridcolor\":\"white\",\"gridwidth\":2,\"linecolor\":\"white\",\"showbackground\":true,\"ticks\":\"\",\"zerolinecolor\":\"white\"},\"zaxis\":{\"backgroundcolor\":\"#E5ECF6\",\"gridcolor\":\"white\",\"gridwidth\":2,\"linecolor\":\"white\",\"showbackground\":true,\"ticks\":\"\",\"zerolinecolor\":\"white\"}},\"shapedefaults\":{\"line\":{\"color\":\"#2a3f5f\"}},\"ternary\":{\"aaxis\":{\"gridcolor\":\"white\",\"linecolor\":\"white\",\"ticks\":\"\"},\"baxis\":{\"gridcolor\":\"white\",\"linecolor\":\"white\",\"ticks\":\"\"},\"bgcolor\":\"#E5ECF6\",\"caxis\":{\"gridcolor\":\"white\",\"linecolor\":\"white\",\"ticks\":\"\"}},\"title\":{\"x\":0.05},\"xaxis\":{\"automargin\":true,\"gridcolor\":\"white\",\"linecolor\":\"white\",\"ticks\":\"\",\"title\":{\"standoff\":15},\"zerolinecolor\":\"white\",\"zerolinewidth\":2},\"yaxis\":{\"automargin\":true,\"gridcolor\":\"white\",\"linecolor\":\"white\",\"ticks\":\"\",\"title\":{\"standoff\":15},\"zerolinecolor\":\"white\",\"zerolinewidth\":2}}},\"title\":{\"text\":\"Coffee bean shipments from major coffee bean producing countries and imports from USA & EU<br>Data base year: 2021\"},\"font\":{\"size\":10}},                        {\"responsive\": true}                    ).then(function(){\n",
       "                            \n",
       "var gd = document.getElementById('f526e6bf-b5a2-42fb-a185-ea8857bc9afe');\n",
       "var x = new MutationObserver(function (mutations, observer) {{\n",
       "        var display = window.getComputedStyle(gd).display;\n",
       "        if (!display || display === 'none') {{\n",
       "            console.log([gd, 'removed!']);\n",
       "            Plotly.purge(gd);\n",
       "            observer.disconnect();\n",
       "        }}\n",
       "}});\n",
       "\n",
       "// Listen for the removal of the full notebook cells\n",
       "var notebookContainer = gd.closest('#notebook-container');\n",
       "if (notebookContainer) {{\n",
       "    x.observe(notebookContainer, {childList: true});\n",
       "}}\n",
       "\n",
       "// Listen for the clearing of the current output cell\n",
       "var outputEl = gd.closest('.output');\n",
       "if (outputEl) {{\n",
       "    x.observe(outputEl, {childList: true});\n",
       "}}\n",
       "\n",
       "                        })                };                });            </script>        </div>"
      ]
     },
     "metadata": {},
     "output_type": "display_data"
    }
   ],
   "source": [
    "fig.update_layout(title_text=\"Coffee bean shipments from major coffee bean producing countries and imports from USA & EU<br>Data base year: 2021\", font_size=10)"
   ]
  }
 ],
 "metadata": {
  "kernelspec": {
   "display_name": "Python 3 (ipykernel)",
   "language": "python",
   "name": "python3"
  },
  "language_info": {
   "codemirror_mode": {
    "name": "ipython",
    "version": 3
   },
   "file_extension": ".py",
   "mimetype": "text/x-python",
   "name": "python",
   "nbconvert_exporter": "python",
   "pygments_lexer": "ipython3",
   "version": "3.9.12"
  }
 },
 "nbformat": 4,
 "nbformat_minor": 5
}
