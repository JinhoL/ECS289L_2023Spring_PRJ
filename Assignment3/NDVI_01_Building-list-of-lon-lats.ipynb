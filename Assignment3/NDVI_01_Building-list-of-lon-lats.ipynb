{
 "cells": [
  {
   "cell_type": "markdown",
   "id": "a5c20065",
   "metadata": {},
   "source": [
    "## <span style=color:blue>This notebook creates a function that, given a county, will generate some number (e.g., 1000) of lon-lat pairs that are all within that county.   </span>"
   ]
  },
  {
   "cell_type": "markdown",
   "id": "124709b7",
   "metadata": {},
   "source": [
    "<span style=color:blue>First, a function that builds an approximate bounding box around a county. </span>\n",
    "\n",
    "<span style=color:blue>This is a little sloppy - we build a box that is 1 degree x 1 degree that is centered on the central lon-lat of the county.  Most of the counties in my 7-state soy region have this characteristic. </span>"
   ]
  },
  {
   "cell_type": "code",
   "execution_count": 1,
   "id": "095675da",
   "metadata": {},
   "outputs": [
    {
     "name": "stdout",
     "output_type": "stream",
     "text": [
      "  state_name county_name         lon        lat\n",
      "0     KANSAS    CHEYENNE -101.757549  39.795580\n",
      "1     KANSAS     DECATUR -100.472769  39.794053\n",
      "2     KANSAS      GRAHAM  -99.898062  39.340620\n",
      "3     KANSAS      NORTON  -99.910003  39.794470\n",
      "4     KANSAS     RAWLINS -101.099472  39.790480\n",
      "\n",
      "Detailed information for KANSAS - SUMNER\n",
      "{\n",
      "    \"center_lat\": 37.2435967,\n",
      "    \"center_lon\": -97.4792142,\n",
      "    \"east_lon\": -96.9792142,\n",
      "    \"north_lat\": 37.7435967,\n",
      "    \"south_lat\": 36.7435967,\n",
      "    \"west_lon\": -97.9792142\n",
      "}\n"
     ]
    }
   ],
   "source": [
    "import json\n",
    "import pandas as pd\n",
    "\n",
    "# will fetch the lon-lats at center of each county from the file state_county_lon_lats.csv\n",
    "\n",
    "archive_dir = '//Users/jinholee/Desktop_local/2023_Spring_FoodSecurity/HW3/output/ML-ARCHIVES--v01/'\n",
    "scll = 'state_county_lon_lat.csv'\n",
    "\n",
    "df_scll = pd.read_csv(archive_dir + scll)\n",
    "print(df_scll.head())\n",
    "\n",
    "# Geocoding function to retrieve coordinates for a county\n",
    "def approx_county_bbox(state, county):\n",
    "    rows = df_scll.loc[(df_scll['state_name'] == state) & (df_scll['county_name'] == county)]\n",
    "    # print(rows)\n",
    "    lon = rows['lon'].values[0]\n",
    "    lat = rows['lat'].values[0]\n",
    "    # print(lon,lat)\n",
    "    \n",
    "    if True:\n",
    "        west_lon = lon - 0.5\n",
    "        east_lon = lon + 0.5\n",
    "        north_lat = lat + 0.5\n",
    "        south_lat = lat - 0.5\n",
    "        return {'center_lon' : lon,\n",
    "                'center_lat' : lat,\n",
    "                'west_lon' : west_lon,\n",
    "                'east_lon': east_lon,\n",
    "                'north_lat': north_lat,\n",
    "                'south_lat': south_lat\n",
    "               }\n",
    "    else:\n",
    "        print('no lat-lon found for ', state, county)\n",
    "        return {'error': 'no lat-lon found for ' + county + ', ' + state}\n",
    "    \n",
    "\n",
    "# test for Bureau County, IL\n",
    "# center point lon for this county is: -89.5341179  \n",
    "# center point lat for this county is:  41.4016294\n",
    "\n",
    "bbox = approx_county_bbox('KANSAS', 'SUMNER')\n",
    "# bbox = approx_county_bbox('ILLINOIS', 'FAKE NAME')\n",
    "\n",
    "print('\\nDetailed information for KANSAS - SUMNER')\n",
    "print(json.dumps(bbox, indent=4, sort_keys=True))"
   ]
  },
  {
   "cell_type": "markdown",
   "id": "1ffe32a0",
   "metadata": {},
   "source": [
    "### <span style=color:blue>Now working towards a function that tests if lat-lon is in a county    </span>\n",
    "\n",
    "<span style=color:blue>As a first step, I downloaded files from https://www.census.gov/geographies/mapping-files/time-series/geo/cartographic-boundary.html that hold polygon specifications for all of the US counties.  In particular, I fetched the Counties file that was 1:20,000,000 at the link https://www2.census.gov/geo/tiger/GENZ2022/shp/cb_2022_us_county_20m.zip.  (This was the least precise, and don't see a need for more precision.) From inside the zip directory I retrieved, the \".dbf\" file seemed most useful. </span>"
   ]
  },
  {
   "cell_type": "code",
   "execution_count": 2,
   "id": "409d1309",
   "metadata": {},
   "outputs": [
    {
     "name": "stdout",
     "output_type": "stream",
     "text": [
      "  STATEFP COUNTYFP  COUNTYNS        AFFGEOID  GEOID     NAME        NAMELSAD  \\\n",
      "0      17      127  01784730  0500000US17127  17127   Massac   Massac County   \n",
      "1      27      017  00659454  0500000US27017  27017  Carlton  Carlton County   \n",
      "2      37      181  01008591  0500000US37181  37181    Vance    Vance County   \n",
      "3      47      079  01639755  0500000US47079  47079    Henry    Henry County   \n",
      "4      06      021  00277275  0500000US06021  06021    Glenn    Glenn County   \n",
      "\n",
      "  STUSPS      STATE_NAME LSAD       ALAND    AWATER  \\\n",
      "0     IL        Illinois   06   614218330  12784614   \n",
      "1     MN       Minnesota   06  2230473967  36173451   \n",
      "2     NC  North Carolina   06   653701481  42190675   \n",
      "3     TN       Tennessee   06  1455320362  81582236   \n",
      "4     CA      California   06  3403160299  33693344   \n",
      "\n",
      "                                            geometry  \n",
      "0  POLYGON ((-88.92876 37.30285, -88.90507 37.335...  \n",
      "1  POLYGON ((-93.06133 46.76655, -92.30168 46.764...  \n",
      "2  POLYGON ((-78.49778 36.51448, -78.45728 36.541...  \n",
      "3  POLYGON ((-88.51636 36.50146, -88.51192 36.501...  \n",
      "4  POLYGON ((-122.91179 39.79948, -122.04647 39.7...  \n"
     ]
    }
   ],
   "source": [
    "import geopandas as gpd\n",
    "from shapely.geometry import Point\n",
    "\n",
    "# downloaded this from \n",
    "county_dir = '/Users/jinholee/Desktop_local/2023_Spring_FoodSecurity/HW3/output/ML-ARCHIVES--v01/COUNTY-BOUNDING-POLYGONS/'\n",
    "county_file = 'cb_2022_us_county_20m.dbf'\n",
    "county_path = county_dir + county_file\n",
    "\n",
    "# Load county boundary data from Shapefile\n",
    "counties = gpd.read_file(county_path)\n",
    "\n",
    "# Print column names\n",
    "print(counties.head())"
   ]
  },
  {
   "cell_type": "markdown",
   "id": "833e08af",
   "metadata": {},
   "source": [
    "<span style=color:blue>The state_name, county_name values from the USDA NASS yield data are all capitals, and need to convert to the format above, which is first-letter-is-capitalized     </span>"
   ]
  },
  {
   "cell_type": "code",
   "execution_count": 3,
   "id": "965ba179",
   "metadata": {},
   "outputs": [
    {
     "name": "stdout",
     "output_type": "stream",
     "text": [
      "Kensas\n",
      "Sumner\n"
     ]
    }
   ],
   "source": [
    "# test\n",
    "print('KENSAS'.title())\n",
    "print('SUMNER'.title())"
   ]
  },
  {
   "cell_type": "markdown",
   "id": "e4664284",
   "metadata": {},
   "source": [
    "<span style=color:blue>Function to test with a given lon-lat is in a state-county     </span>"
   ]
  },
  {
   "cell_type": "code",
   "execution_count": 4,
   "id": "ade5aba1",
   "metadata": {},
   "outputs": [
    {
     "name": "stdout",
     "output_type": "stream",
     "text": [
      "True\n",
      "True\n"
     ]
    }
   ],
   "source": [
    "# Load county boundary data; this is a .dbf file\n",
    "\n",
    "# downloaded this from \n",
    "county_dir = '/Users/jinholee/Desktop_local/2023_Spring_FoodSecurity/HW3/output/ML-ARCHIVES--v01/COUNTY-BOUNDING-POLYGONS/'\n",
    "county_file = 'cb_2022_us_county_20m.dbf'\n",
    "county_path = county_dir + county_file\n",
    "counties = gpd.read_file(county_path)\n",
    "\n",
    "def lon_lat_in_county(longitude, latitude, state_name, county_name):\n",
    "    # Load county boundary data; this is a .dbf file\n",
    "    counties = gpd.read_file(county_path)\n",
    "\n",
    "    # Find the specified county\n",
    "    county = counties[(counties['NAME'] == county_name.title()) & (counties['STATE_NAME'] == state_name.title())]\n",
    "    # print(county)\n",
    "\n",
    "    if county.empty:\n",
    "        print(f\"County '{county_name}' not found.\")\n",
    "        return False\n",
    "\n",
    "    # Create shapely point from the provided latitude and longitude\n",
    "    point = Point(longitude, latitude)\n",
    "\n",
    "    # Check if the point is within the county polygon\n",
    "    return point.within(county.geometry.values[0])\n",
    "\n",
    "     \n",
    "\n",
    "# test\n",
    "state_name = 'KANSAS'\n",
    "county_name = \"SUMNER\"\n",
    "lon_in = -97.4792142\n",
    "lat_in = 37.2435967\n",
    "lon_out = -97.4792142\n",
    "lat_out = 37.2435967\n",
    "\n",
    "print(lon_lat_in_county(lon_in, lat_in, state_name, county_name))\n",
    "print(lon_lat_in_county(lon_out, lat_out, state_name, county_name))"
   ]
  },
  {
   "cell_type": "markdown",
   "id": "be80c332",
   "metadata": {},
   "source": [
    "<span style=color:blue>Function that generates some number of lon-lat pairs that are within a county     </span>"
   ]
  },
  {
   "cell_type": "code",
   "execution_count": 16,
   "id": "95fa40c5",
   "metadata": {},
   "outputs": [
    {
     "name": "stdout",
     "output_type": "stream",
     "text": [
      "[\n",
      "    [\n",
      "        -97.8684315,\n",
      "        37.001171\n",
      "    ],\n",
      "    [\n",
      "        -97.6458632,\n",
      "        37.3770858\n",
      "    ],\n",
      "    [\n",
      "        -97.9619319,\n",
      "        37.4559632\n",
      "    ],\n",
      "    [\n",
      "        -97.2939078,\n",
      "        37.5900635\n",
      "    ],\n",
      "    [\n",
      "        -97.6389711,\n",
      "        37.2613082\n",
      "    ]\n",
      "]\n",
      "\n",
      "[\n",
      "    [\n",
      "        -97.5124068,\n",
      "        37.101339\n",
      "    ],\n",
      "    [\n",
      "        -97.6012503,\n",
      "        37.2285402\n",
      "    ],\n",
      "    [\n",
      "        -97.0067013,\n",
      "        37.1452584\n",
      "    ],\n",
      "    [\n",
      "        -97.3000367,\n",
      "        37.7132719\n",
      "    ],\n",
      "    [\n",
      "        -97.541772,\n",
      "        37.7161053\n",
      "    ]\n",
      "]\n"
     ]
    }
   ],
   "source": [
    "# assumes state_name, county_name are all-caps, as in the USDA NASS yield data sets\n",
    "\n",
    "import random\n",
    "\n",
    "def gen_lon_lat_in_county(state_name, county_name, count):\n",
    "    list = []\n",
    "    bbox = approx_county_bbox(state_name, county_name)\n",
    "    # print(json.dumps(bbox, indent=4, sort_keys=True))\n",
    "    for i in range(0,count):\n",
    "        r1 = random.uniform(0,1)\n",
    "        r2 = random.uniform(0,1)\n",
    "        # print(r1,r2)\n",
    "        lon = round(bbox['east_lon'] + r1*(bbox['west_lon'] - bbox['east_lon']), 7)\n",
    "        lat = round(bbox['south_lat'] + r2*(bbox['north_lat'] - bbox['south_lat']), 7)\n",
    "        list += [[lon,lat]]\n",
    "    return list\n",
    "    \n",
    "# test \n",
    "#list = gen_lon_lat_in_county('KANSAS','SUMNER',1000)\n",
    "#print(json.dumps(list[0:5], indent=4))\n",
    "#print()\n",
    "#print(json.dumps(list[995:1000], indent=4))\n",
    "\n",
    "# test 2 - 500 sequences\n",
    "list = gen_lon_lat_in_county('KANSAS','SUMNER',50)\n",
    "print(json.dumps(list[0:5], indent=4))\n",
    "print()\n",
    "print(json.dumps(list[45:50], indent=4))\n"
   ]
  },
  {
   "cell_type": "markdown",
   "id": "8021490f",
   "metadata": {},
   "source": [
    "<span style=color:blue>     </span>"
   ]
  },
  {
   "cell_type": "markdown",
   "id": "b853017d",
   "metadata": {},
   "source": [
    "<span style=color:blue>Based on the file state_county_lon_lat.csv, build a dictionary with shape state / county / seq_of_lon_lat_in_county.  Actually, this cell is a warm up.    </span>"
   ]
  },
  {
   "cell_type": "code",
   "execution_count": 17,
   "id": "7df26aa5",
   "metadata": {},
   "outputs": [
    {
     "name": "stdout",
     "output_type": "stream",
     "text": [
      "['KANSAS']\n",
      "{\n",
      "    \"KANSAS\": {}\n",
      "}\n"
     ]
    }
   ],
   "source": [
    "print(df_scll.state_name.unique())\n",
    "# answer is: ['ILLINOIS' 'INDIANA' 'IOWA' 'MISSOURI' 'NEBRASKA' 'OHIO']\n",
    "\n",
    "# oh - realizing now that somehow Minnesota got dropped from my set of states\n",
    "# It was in my notebook ML-for-soybeans-part-01--fetching-yield-data, where\n",
    "# I mispelled MINNESTOTA.  Not fixing it for now...\n",
    "\n",
    "dict = {}\n",
    "for state in df_scll.state_name.unique():\n",
    "    dict[state] = {}\n",
    "\n",
    "print(json.dumps(dict, indent=4, sort_keys=True))\n"
   ]
  },
  {
   "cell_type": "markdown",
   "id": "f5256e6b",
   "metadata": {},
   "source": [
    "<span style=color:blue>Here is a function that walks through all the state-county pairs of df_scll, and for each one creates a sequence of 1000 lon-lats in that state-county, and puts that into dict.     </span>"
   ]
  },
  {
   "cell_type": "code",
   "execution_count": 43,
   "id": "5bea8d8b",
   "metadata": {},
   "outputs": [
    {
     "name": "stdout",
     "output_type": "stream",
     "text": [
      "    state_name county_name         lon        lat\n",
      "0       KANSAS    CHEYENNE -101.757549  39.795580\n",
      "1       KANSAS     DECATUR -100.472769  39.794053\n",
      "2       KANSAS      GRAHAM  -99.898062  39.340620\n",
      "3       KANSAS      NORTON  -99.910003  39.794470\n",
      "4       KANSAS     RAWLINS -101.099472  39.790480\n",
      "..         ...         ...         ...        ...\n",
      "100     KANSAS     LABETTE  -95.310373  37.189971\n",
      "101     KANSAS  MONTGOMERY  -95.762834  37.198395\n",
      "102     KANSAS      NEOSHO  -95.331660  37.556635\n",
      "103     KANSAS      WILSON  -95.745264  37.569212\n",
      "104     KANSAS     WOODSON  -95.751711  37.881137\n",
      "\n",
      "[105 rows x 4 columns]\n",
      "2023-06-06 18:15:43.406945\n",
      "Have completed generation of 0 sequences of lon-lats\n",
      "Have completed generation of 50 sequences of lon-lats\n",
      "Have completed generation of 100 sequences of lon-lats\n",
      "2023-06-06 18:15:43.736077\n"
     ]
    }
   ],
   "source": [
    "import datetime\n",
    "\n",
    "print(df_scll)\n",
    "\n",
    "def create_lon_lat_seqs(count):\n",
    "    dict = {}\n",
    "    for state in df_scll.state_name.unique():\n",
    "        dict[state] = {}\n",
    "    for i in range(0, len(df_scll)):\n",
    "        row = df_scll.iloc[i]\n",
    "        # print(row)\n",
    "        state = row['state_name']\n",
    "        county = row['county_name']\n",
    "        dict[state][county] = gen_lon_lat_in_county(state, county, count)\n",
    "        if i % 50 == 0:\n",
    "            print(f'Have completed generation of {str(i)} sequences of lon-lats')\n",
    "    return dict\n",
    "    \n",
    "    \n",
    "print(datetime.datetime.now())\n",
    "dict = create_lon_lat_seqs(200)\n",
    "print(datetime.datetime.now())"
   ]
  },
  {
   "cell_type": "markdown",
   "id": "b4c77ddd",
   "metadata": {},
   "source": [
    "<span style=color:blue>Save dict as json  </span>"
   ]
  },
  {
   "cell_type": "code",
   "execution_count": 44,
   "id": "6d042f75",
   "metadata": {},
   "outputs": [],
   "source": [
    "archive_dir = '/Users/jinholee/Desktop_local/2023_Spring_FoodSecurity/HW3/output/ML-ARCHIVES--v01/'\n",
    "out_file = 'state_county__seq_of_lon_lats.json'\n",
    "\n",
    "with open(archive_dir + out_file, 'w') as fp:\n",
    "    json.dump(dict, fp)"
   ]
  },
  {
   "cell_type": "code",
   "execution_count": null,
   "id": "e4d12ff4",
   "metadata": {},
   "outputs": [],
   "source": []
  }
 ],
 "metadata": {
  "kernelspec": {
   "display_name": "Python 3 (ipykernel)",
   "language": "python",
   "name": "python3"
  },
  "language_info": {
   "codemirror_mode": {
    "name": "ipython",
    "version": 3
   },
   "file_extension": ".py",
   "mimetype": "text/x-python",
   "name": "python",
   "nbconvert_exporter": "python",
   "pygments_lexer": "ipython3",
   "version": "3.9.12"
  }
 },
 "nbformat": 4,
 "nbformat_minor": 5
}
