{
 "cells": [
  {
   "cell_type": "markdown",
   "id": "1e3c6e9d",
   "metadata": {},
   "source": [
    "## <span style=color:blue>Fetching the more-or-less central lat lon for each county/state pair of interest in our ML pipeline    </span>\n"
   ]
  },
  {
   "cell_type": "code",
   "execution_count": 1,
   "id": "b0828ae5",
   "metadata": {},
   "outputs": [],
   "source": [
    "# This useful if I want to give unique names to directories or files\n",
    "import datetime\n",
    "def curr_timestamp():\n",
    "    current_datetime = datetime.datetime.now()\n",
    "    formatted_datetime = current_datetime.strftime(\"%Y-%m-%d_%H-%M-%S\")\n",
    "    return formatted_datetime"
   ]
  },
  {
   "cell_type": "markdown",
   "id": "2f261ae1",
   "metadata": {},
   "source": [
    "<span style=color:blue>The year_state_county_yield.csv file holds all of the year-county-state triples of interest along with total soybean yield.</span>"
   ]
  },
  {
   "cell_type": "code",
   "execution_count": 3,
   "id": "e25dda58",
   "metadata": {},
   "outputs": [
    {
     "name": "stdout",
     "output_type": "stream",
     "text": [
      "number of rows in csv cleaned for ML:  2342\n",
      "\n",
      "   year state_name county_name  yield\n",
      "0  2007     KANSAS    CHEYENNE   47.0\n",
      "1  2006     KANSAS    CHEYENNE   20.0\n",
      "2  2005     KANSAS    CHEYENNE   21.0\n",
      "3  2004     KANSAS    CHEYENNE   18.0\n",
      "4  2003     KANSAS    CHEYENNE   32.0\n",
      "\n",
      "Number of state-county pairs is:  105\n"
     ]
    }
   ],
   "source": [
    "import pandas as pd\n",
    "\n",
    "archives_dir = './Archives/'\n",
    "file = 'd_KENSAS_WHEAT'\n",
    "\n",
    "df = pd.read_csv(archives_dir + file)\n",
    "print('number of rows in csv cleaned for ML: ', len(df))\n",
    "print()\n",
    "print(df.head())\n",
    "\n",
    "\n",
    "df1 = df[['state_name','county_name']].drop_duplicates()\n",
    "print('\\nNumber of state-county pairs is: ', len(df1))\n"
   ]
  },
  {
   "cell_type": "markdown",
   "id": "c7305534",
   "metadata": {},
   "source": [
    "<span style=color:blue>The function geocode_county defined below won't work on \"DU PAGE\" county in Illinois.  But it does work on \"DUPAGE\".  So, changing the name in both df and df1 </span>"
   ]
  },
  {
   "cell_type": "code",
   "execution_count": 50,
   "id": "0122b597",
   "metadata": {},
   "outputs": [
    {
     "name": "stdout",
     "output_type": "stream",
     "text": [
      "[279, 280, 281, 282, 283]\n",
      "DUPAGE\n",
      "DUPAGE\n",
      "DUPAGE\n",
      "DUPAGE\n",
      "DUPAGE\n",
      "[279]\n",
      "DUPAGE\n"
     ]
    }
   ],
   "source": [
    "#### No need for our dataset ####\n",
    "\n",
    "# # including the \"or\" (i.e., \"|\") so that I can this cell is eidenpotent\n",
    "# index = df.index[(df['county_name'] == 'DU PAGE') | (df['county_name'] == 'DUPAGE')].tolist()\n",
    "# print(index)\n",
    "# for ind in index:\n",
    "#     df.at[ind, 'county_name'] = 'DUPAGE'\n",
    "#     print(df.at[ind, 'county_name'])\n",
    "\n",
    "# index1 = df1.index[(df1['county_name'] == 'DU PAGE') | (df1['county_name'] == 'DUPAGE')].tolist()\n",
    "# print(index1)\n",
    "# for ind in index1:\n",
    "#     df1.at[ind, 'county_name'] = 'DUPAGE'\n",
    "#     print(df1.at[ind, 'county_name'])\n"
   ]
  },
  {
   "cell_type": "markdown",
   "id": "a2286fc6",
   "metadata": {},
   "source": [
    "<span style=color:blue>Using geopy to fetch lon-lat for (approx center of) each county.  This cell takes a while to run</span>"
   ]
  },
  {
   "cell_type": "code",
   "execution_count": 6,
   "id": "826ad701",
   "metadata": {},
   "outputs": [
    {
     "name": "stdout",
     "output_type": "stream",
     "text": [
      "   state_name county_name         lon        lat\n",
      "0      KANSAS    CHEYENNE -101.757549  39.795580\n",
      "5      KANSAS     DECATUR -100.472769  39.794053\n",
      "10     KANSAS      GRAHAM  -99.898062  39.340620\n",
      "15     KANSAS      NORTON  -99.910003  39.794470\n",
      "20     KANSAS     RAWLINS -101.099472  39.790480\n",
      "\n",
      "lon-lat for KANSAS-BROWN is:  (-95.5819952, 39.824223)\n"
     ]
    }
   ],
   "source": [
    "from geopy.geocoders import Nominatim\n",
    "\n",
    "# Geocoding function to retrieve coordinates for a county\n",
    "def geocode_county(state, county):\n",
    "    geolocator = Nominatim(user_agent=\"county_geocoder\")\n",
    "    location = geolocator.geocode(county + \", \" + state + \", USA\")\n",
    "    if location:\n",
    "        return location.longitude, location.latitude\n",
    "    else:\n",
    "        print('no lat-lon found for ', state, county)\n",
    "        return None, None\n",
    "        \n",
    "        \n",
    "df1['lon'] = df1.apply(lambda x: geocode_county(x['state_name'], x['county_name'])[0], axis=1)\n",
    "df1['lat'] = df1.apply(lambda x: geocode_county(x['state_name'], x['county_name'])[1], axis=1)\n",
    "\n",
    "print(df1.head())    \n",
    "print()\n",
    "\n",
    "print('lon-lat for KANSAS-BROWN is: ', geocode_county('KANSAS', 'BROWN'))\n"
   ]
  },
  {
   "cell_type": "markdown",
   "id": "180466de",
   "metadata": {},
   "source": [
    "<span style=color:blue>Archiving df1 for later use </span>"
   ]
  },
  {
   "cell_type": "code",
   "execution_count": 7,
   "id": "8fb19283",
   "metadata": {},
   "outputs": [
    {
     "name": "stdout",
     "output_type": "stream",
     "text": [
      "wrote file:  ./Archives/state_county_lon_lat.csv\n"
     ]
    }
   ],
   "source": [
    "archives_dir = './Archives/'\n",
    "filename = 'state_county_lon_lat.csv'\n",
    "df1.to_csv(archives_dir + filename, index=False)\n",
    "print('wrote file: ', archives_dir + filename)"
   ]
  }
 ],
 "metadata": {
  "kernelspec": {
   "display_name": "Python 3 (ipykernel)",
   "language": "python",
   "name": "python3"
  },
  "language_info": {
   "codemirror_mode": {
    "name": "ipython",
    "version": 3
   },
   "file_extension": ".py",
   "mimetype": "text/x-python",
   "name": "python",
   "nbconvert_exporter": "python",
   "pygments_lexer": "ipython3",
   "version": "3.10.11"
  }
 },
 "nbformat": 4,
 "nbformat_minor": 5
}
